{
 "cells": [
  {
   "cell_type": "markdown",
   "source": [
    "一、首先导入相关包"
   ],
   "metadata": {
    "collapsed": false
   }
  },
  {
   "cell_type": "code",
   "execution_count": null,
   "outputs": [],
   "source": [
    "import torch\n",
    "from torch import optim, nn"
   ],
   "metadata": {
    "collapsed": false
   }
  },
  {
   "cell_type": "markdown",
   "source": [
    "二、定义LoRA网络结构，继承自nn.Module，这样就可以把LoRA网络和之前定义的网络组装到一起了"
   ],
   "metadata": {
    "collapsed": false
   }
  },
  {
   "cell_type": "code",
   "execution_count": null,
   "outputs": [],
   "source": [
    "class LoRA(nn.Module):\n",
    "    def __init__(self,\n",
    "                 in_features,   #输入特征\n",
    "                 out_features,  #输出特征\n",
    "                 rank):         #压缩维度\n",
    "        super().__init__()\n",
    "        self.rank = rank  # LoRA的秩（rank），控制低秩矩阵的大小\n",
    "        self.A = nn.Linear(in_features, rank, bias=False)  # 低秩矩阵A in_features -> rank\n",
    "        self.B = nn.Linear(rank, out_features, bias=False)  # 低秩矩阵B rank -> out_features\n",
    "        # 矩阵A高斯初始化\n",
    "        self.A.weight.data.normal_(mean=0.0, std=0.02)\n",
    "        # 矩阵B全0初始化\n",
    "        self.B.weight.data.zero_()\n",
    "\n",
    "    def forward(self, x):\n",
    "        return self.B(self.A(x))"
   ],
   "metadata": {
    "collapsed": false
   }
  },
  {
   "cell_type": "markdown",
   "source": [
    "三、定义模型和LoRA网络的组装函数"
   ],
   "metadata": {
    "collapsed": false
   }
  },
  {
   "cell_type": "code",
   "execution_count": null,
   "outputs": [],
   "source": [
    "def apply_lora(model, rank=8):\n",
    "    # 遍历模型的所有子模块\n",
    "    for name, module in model.named_modules():\n",
    "        # 只给权重是方阵的 nn.Linear 注入 LoRA\n",
    "        #   ─ 假设它们是 Q / K / V / O 投影；\n",
    "        #   ─ 非方阵（mlp down/up）不处理，节省显存。\n",
    "        # 但是请注意，本项目中没有使用LoRA训练模型，因为我们的是MLA架构，没有方阵Linear，这里需要修改才行\n",
    "        if isinstance(module, nn.Linear) and module.weight.shape[0] == module.weight.shape[1]:\n",
    "            lora = LoRA(module.weight.shape[0], module.weight.shape[1], rank=rank).to(model.device)\n",
    "            setattr(module, \"lora\", lora)\n",
    "            original_forward = module.forward\n",
    "\n",
    "            # 显式绑定\n",
    "            def forward_with_lora(x, layer1=original_forward, layer2=lora):\n",
    "                return layer1(x) + layer2(x)\n",
    "\n",
    "            module.forward = forward_with_lora"
   ],
   "metadata": {
    "collapsed": false
   }
  },
  {
   "cell_type": "markdown",
   "source": [
    "四、定义保存LoRA模型的函数，一般来说，LoRA模型的参数和原始模型的参数分开保存"
   ],
   "metadata": {
    "collapsed": false
   }
  },
  {
   "cell_type": "code",
   "execution_count": null,
   "outputs": [],
   "source": [
    "def save_lora(model, path):\n",
    "    state_dict = {}\n",
    "    for name, module in model.named_modules():\n",
    "        if hasattr(module, 'lora'):\n",
    "            lora_state = {f'{name}.lora.{k}': v for k, v in module.lora.state_dict().items()}\n",
    "            state_dict.update(lora_state)\n",
    "    torch.save(state_dict, path)"
   ],
   "metadata": {
    "collapsed": false
   }
  },
  {
   "cell_type": "markdown",
   "source": [
    "五、定义加载LoRA模型参数的函数，一般来说，LoRA模型的参数和原始模型的参数分开加载"
   ],
   "metadata": {
    "collapsed": false
   }
  },
  {
   "cell_type": "code",
   "execution_count": null,
   "outputs": [],
   "source": [
    "def load_lora(model, path):\n",
    "    state_dict = torch.load(path, map_location=model.device)\n",
    "    for name, module in model.named_modules():\n",
    "        if hasattr(module, 'lora'):\n",
    "            lora_state = {k.replace(f'{name}.lora.', ''): v for k, v in state_dict.items() if f'{name}.lora.' in k}\n",
    "            module.lora.load_state_dict(lora_state)"
   ],
   "metadata": {
    "collapsed": false
   }
  }
 ],
 "metadata": {
  "kernelspec": {
   "display_name": "Python 3",
   "language": "python",
   "name": "python3"
  },
  "language_info": {
   "codemirror_mode": {
    "name": "ipython",
    "version": 2
   },
   "file_extension": ".py",
   "mimetype": "text/x-python",
   "name": "python",
   "nbconvert_exporter": "python",
   "pygments_lexer": "ipython2",
   "version": "2.7.6"
  }
 },
 "nbformat": 4,
 "nbformat_minor": 0
}
